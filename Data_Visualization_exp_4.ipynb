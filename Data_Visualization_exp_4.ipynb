{
  "nbformat": 4,
  "nbformat_minor": 0,
  "metadata": {
    "colab": {
      "provenance": [],
      "authorship_tag": "ABX9TyMlNcfWyOpXAfM/c/PtS3ap",
      "include_colab_link": true
    },
    "kernelspec": {
      "name": "python3",
      "display_name": "Python 3"
    },
    "language_info": {
      "name": "python"
    }
  },
  "cells": [
    {
      "cell_type": "markdown",
      "metadata": {
        "id": "view-in-github",
        "colab_type": "text"
      },
      "source": [
        "<a href=\"https://colab.research.google.com/github/himanshkr03/Data_Visualization_Experiment/blob/main/Data_Visualization_exp_4.ipynb\" target=\"_parent\"><img src=\"https://colab.research.google.com/assets/colab-badge.svg\" alt=\"Open In Colab\"/></a>"
      ]
    },
    {
      "cell_type": "code",
      "execution_count": 4,
      "metadata": {
        "colab": {
          "base_uri": "https://localhost:8080/"
        },
        "id": "-MaNgTzahxqx",
        "outputId": "8034ce52-c305-46ba-a88d-5ce0c1699ea3"
      },
      "outputs": [
        {
          "output_type": "stream",
          "name": "stdout",
          "text": [
            "Dataset Loaded Successfully!\n",
            "\n"
          ]
        }
      ],
      "source": [
        "# Import necessary libraries\n",
        "import pandas as pd\n",
        "import numpy as np\n",
        "import matplotlib.pyplot as plt\n",
        "import seaborn as sns\n",
        "from sklearn.model_selection import train_test_split\n",
        "from sklearn.linear_model import LinearRegression\n",
        "from sklearn.metrics import mean_squared_error, r2_score, mean_absolute_error, mean_absolute_percentage_error\n",
        "\n",
        "# Step 1: Load the Dataset\n",
        "file_path = '/content/phone_usage_india.csv'  # Replace with your uploaded file's path\n",
        "data = pd.read_csv(file_path)\n",
        "\n",
        "print(\"Dataset Loaded Successfully!\\n\")"
      ]
    },
    {
      "cell_type": "code",
      "source": [
        "# Step 2: Data Overview\n",
        "print(\"Initial Dataset Information:\")\n",
        "data.info()\n",
        "print(\"\\nFirst 5 Rows of the Dataset:\")\n",
        "print(data.head())\n",
        "\n",
        "# Step 3: Data Cleaning and Preprocessing\n",
        "print(\"\\nCleaning and Preprocessing Data...\")"
      ],
      "metadata": {
        "colab": {
          "base_uri": "https://localhost:8080/"
        },
        "id": "63xTT0aVlViF",
        "outputId": "f75e9715-ac3a-4ea9-8c05-023d52c65a74"
      },
      "execution_count": 5,
      "outputs": [
        {
          "output_type": "stream",
          "name": "stdout",
          "text": [
            "Initial Dataset Information:\n",
            "<class 'pandas.core.frame.DataFrame'>\n",
            "RangeIndex: 17686 entries, 0 to 17685\n",
            "Data columns (total 16 columns):\n",
            " #   Column                        Non-Null Count  Dtype  \n",
            "---  ------                        --------------  -----  \n",
            " 0   User ID                       17686 non-null  object \n",
            " 1   Age                           17686 non-null  int64  \n",
            " 2   Gender                        17686 non-null  object \n",
            " 3   Location                      17686 non-null  object \n",
            " 4   Phone Brand                   17686 non-null  object \n",
            " 5   OS                            17686 non-null  object \n",
            " 6   Screen Time (hrs/day)         17686 non-null  float64\n",
            " 7   Data Usage (GB/month)         17686 non-null  float64\n",
            " 8   Calls Duration (mins/day)     17686 non-null  float64\n",
            " 9   Number of Apps Installed      17686 non-null  int64  \n",
            " 10  Social Media Time (hrs/day)   17686 non-null  float64\n",
            " 11  E-commerce Spend (INR/month)  17686 non-null  int64  \n",
            " 12  Streaming Time (hrs/day)      17686 non-null  float64\n",
            " 13  Gaming Time (hrs/day)         17686 non-null  float64\n",
            " 14  Monthly Recharge Cost (INR)   17686 non-null  int64  \n",
            " 15  Primary Use                   17686 non-null  object \n",
            "dtypes: float64(6), int64(4), object(6)\n",
            "memory usage: 2.2+ MB\n",
            "\n",
            "First 5 Rows of the Dataset:\n",
            "  User ID  Age  Gender   Location Phone Brand       OS  Screen Time (hrs/day)  \\\n",
            "0  U00001   53    Male     Mumbai        Vivo  Android                    3.7   \n",
            "1  U00002   60   Other      Delhi      Realme      iOS                    9.2   \n",
            "2  U00003   37  Female  Ahmedabad       Nokia  Android                    4.5   \n",
            "3  U00004   32    Male       Pune     Samsung  Android                   11.0   \n",
            "4  U00005   16    Male     Mumbai      Xiaomi      iOS                    2.2   \n",
            "\n",
            "   Data Usage (GB/month)  Calls Duration (mins/day)  Number of Apps Installed  \\\n",
            "0                   23.9                       37.9                       104   \n",
            "1                   28.1                       13.7                       169   \n",
            "2                   12.3                       66.8                        96   \n",
            "3                   25.6                      156.2                       146   \n",
            "4                    2.5                      236.2                        86   \n",
            "\n",
            "   Social Media Time (hrs/day)  E-commerce Spend (INR/month)  \\\n",
            "0                          3.9                           469   \n",
            "1                          2.8                          4997   \n",
            "2                          3.0                          2381   \n",
            "3                          5.2                          1185   \n",
            "4                          5.5                           106   \n",
            "\n",
            "   Streaming Time (hrs/day)  Gaming Time (hrs/day)  \\\n",
            "0                       5.2                    4.1   \n",
            "1                       5.1                    0.4   \n",
            "2                       1.7                    2.9   \n",
            "3                       3.2                    0.3   \n",
            "4                       3.4                    2.3   \n",
            "\n",
            "   Monthly Recharge Cost (INR)    Primary Use  \n",
            "0                          803      Education  \n",
            "1                         1526         Gaming  \n",
            "2                         1619  Entertainment  \n",
            "3                         1560  Entertainment  \n",
            "4                          742   Social Media  \n",
            "\n",
            "Cleaning and Preprocessing Data...\n"
          ]
        }
      ]
    },
    {
      "cell_type": "code",
      "source": [],
      "metadata": {
        "id": "JBBFxmn4laIT"
      },
      "execution_count": null,
      "outputs": []
    }
  ]
}